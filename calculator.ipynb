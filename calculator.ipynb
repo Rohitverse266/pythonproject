{
 "cells": [
  {
   "cell_type": "code",
   "execution_count": 2,
   "id": "2fd81201",
   "metadata": {},
   "outputs": [],
   "source": [
    "a= \"5\""
   ]
  },
  {
   "cell_type": "code",
   "execution_count": 3,
   "id": "4aa4cd06",
   "metadata": {},
   "outputs": [],
   "source": [
    "b= \"6\""
   ]
  },
  {
   "cell_type": "code",
   "execution_count": 4,
   "id": "d0c0e396",
   "metadata": {},
   "outputs": [
    {
     "name": "stdout",
     "output_type": "stream",
     "text": [
      "the value of 5  +  3  is:  11\n"
     ]
    }
   ],
   "source": [
    "print(\"the value of\", a, \" + \", 3, \" is: \", a + b)"
   ]
  },
  {
   "cell_type": "code",
   "execution_count": 5,
   "id": "b7b7e741",
   "metadata": {},
   "outputs": [
    {
     "name": "stdout",
     "output_type": "stream",
     "text": [
      "the value of 5  -  6  is:  -1\n"
     ]
    }
   ],
   "source": [
    "print(\"the value of\", a, \" - \", 6, \" is: \", a-b)"
   ]
  },
  {
   "cell_type": "code",
   "execution_count": 9,
   "id": "8c5730f8",
   "metadata": {},
   "outputs": [
    {
     "name": "stdout",
     "output_type": "stream",
     "text": [
      "the value of 5  *  6  is :  30\n"
     ]
    }
   ],
   "source": [
    "print(\"the value of\", 5, \" * \", 6, \" is : \", a*b)"
   ]
  },
  {
   "cell_type": "code",
   "execution_count": 18,
   "id": "15b5b6e3",
   "metadata": {
    "scrolled": true
   },
   "outputs": [
    {
     "name": "stdout",
     "output_type": "stream",
     "text": [
      " The value of  5  /  6  is :  0.8333333333333334\n"
     ]
    }
   ],
   "source": [
    "print(\" The value of \", 5, \" / \", 6, \" is : \", a / b )"
   ]
  },
  {
   "cell_type": "code",
   "execution_count": 19,
   "id": "fdfdb943",
   "metadata": {},
   "outputs": [
    {
     "name": "stdout",
     "output_type": "stream",
     "text": [
      "11\n"
     ]
    }
   ],
   "source": [
    "print(a+b)"
   ]
  }
 ],
 "metadata": {
  "kernelspec": {
   "display_name": "Python 3 (ipykernel)",
   "language": "python",
   "name": "python3"
  },
  "language_info": {
   "codemirror_mode": {
    "name": "ipython",
    "version": 3
   },
   "file_extension": ".py",
   "mimetype": "text/x-python",
   "name": "python",
   "nbconvert_exporter": "python",
   "pygments_lexer": "ipython3",
   "version": "3.9.12"
  }
 },
 "nbformat": 4,
 "nbformat_minor": 5
}
